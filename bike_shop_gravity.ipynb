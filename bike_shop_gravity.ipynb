{
 "cells": [
  {
   "cell_type": "code",
   "execution_count": 2,
   "metadata": {},
   "outputs": [],
   "source": [
    "import osmnx as ox\n",
    "import networkx as nx\n",
    "import geopandas as gpd\n",
    "import pandas as pd\n",
    "import numpy as np"
   ]
  },
  {
   "cell_type": "code",
   "execution_count": 3,
   "metadata": {},
   "outputs": [],
   "source": [
    "# Define the geographic boundary of the campus\n",
    "place_name = \"Georgia Institute of Technology, Atlanta, GA, USA\"\n",
    "\n",
    "# Load the walkable street network\n",
    "G = ox.graph_from_place(place_name, network_type=\"walk\")"
   ]
  },
  {
   "cell_type": "code",
   "execution_count": 13,
   "metadata": {},
   "outputs": [
    {
     "name": "stdout",
     "output_type": "stream",
     "text": [
      "          name  population                    geometry\n",
      "0       Dorm A         500  POINT (-84.39630 33.77560)\n",
      "1       Dorm B         300  POINT (-84.39510 33.77420)\n",
      "2  Apartment C         700  POINT (-84.38900 33.77250)\n"
     ]
    }
   ],
   "source": [
    "# Student Living Centers (need actual data)... thanks tho chatgpt!\n",
    "student_centroids = gpd.GeoDataFrame({\n",
    "    \"name\": [\"Dorm A\", \"Dorm B\", \"Apartment C\"],\n",
    "    \"population\": [500, 300, 700],\n",
    "    \"geometry\": gpd.points_from_xy([-84.3963, -84.3951, -84.3890], [33.7756, 33.7742, 33.7725])\n",
    "})\n",
    "\n",
    "print(student_centroids.head())"
   ]
  },
  {
   "cell_type": "code",
   "execution_count": 15,
   "metadata": {},
   "outputs": [
    {
     "name": "stdout",
     "output_type": "stream",
     "text": [
      "              name                    geometry\n",
      "0  Existing Shop 1  POINT (-84.39150 33.77600)\n",
      "1  Existing Shop 2  POINT (-84.38850 33.77450)\n"
     ]
    }
   ],
   "source": [
    "\n",
    "# Existing Bike Shops (Replace with actual data)\n",
    "existing_shops = gpd.GeoDataFrame({\n",
    "    \"name\": [\"Existing Shop 1\", \"Existing Shop 2\"],\n",
    "    \"geometry\": gpd.points_from_xy([-84.3915, -84.3885], [33.7760, 33.7745])\n",
    "})\n",
    "\n",
    "print(existing_shops.head())"
   ]
  },
  {
   "cell_type": "code",
   "execution_count": 16,
   "metadata": {},
   "outputs": [
    {
     "name": "stdout",
     "output_type": "stream",
     "text": [
      "         name                    geometry\n",
      "0  New Shop 1  POINT (-84.39200 33.77500)\n",
      "1  New Shop 2  POINT (-84.39000 33.77300)\n",
      "2  New Shop 3  POINT (-84.38800 33.77100)\n"
     ]
    }
   ],
   "source": [
    "# Candidate Bike Shops (Replace with actual data)\n",
    "new_shops = gpd.GeoDataFrame({\n",
    "    \"name\": [\"New Shop 1\", \"New Shop 2\", \"New Shop 3\"],\n",
    "    \"geometry\": gpd.points_from_xy([-84.3920, -84.3900, -84.3880], [33.7750, 33.7730, 33.7710])\n",
    "})\n",
    "\n",
    "print(new_shops.head())\n"
   ]
  },
  {
   "cell_type": "code",
   "execution_count": 17,
   "metadata": {},
   "outputs": [
    {
     "name": "stdout",
     "output_type": "stream",
     "text": [
      "              name                    geometry        node\n",
      "0  Existing Shop 1  POINT (-84.39150 33.77600)   546589748\n",
      "1  Existing Shop 2  POINT (-84.38850 33.77450)  9244488405\n",
      "2       New Shop 1  POINT (-84.39200 33.77500)  3158726327\n",
      "3       New Shop 2  POINT (-84.39000 33.77300)  8845774644\n",
      "4       New Shop 3  POINT (-84.38800 33.77100)  8584512262\n"
     ]
    }
   ],
   "source": [
    "# Combine all bike shops (existing + new)\n",
    "all_shops = pd.concat([existing_shops, new_shops], ignore_index=True)\n",
    "\n",
    "# Find nearest nodes in the street network\n",
    "student_centroids[\"node\"] = student_centroids.geometry.apply(lambda point: ox.nearest_nodes(G, point.x, point.y))\n",
    "all_shops[\"node\"] = all_shops.geometry.apply(lambda point: ox.nearest_nodes(G, point.x, point.y))\n",
    "\n",
    "print(all_shops.head())"
   ]
  },
  {
   "cell_type": "code",
   "execution_count": 18,
   "metadata": {},
   "outputs": [
    {
     "name": "stdout",
     "output_type": "stream",
     "text": [
      "   Student_Living_Center        Bike_Shop  Distance_meters  Population\n",
      "0                 Dorm A  Existing Shop 1          573.652         500\n",
      "1                 Dorm A  Existing Shop 2          983.472         500\n",
      "2                 Dorm A       New Shop 1          450.112         500\n",
      "3                 Dorm A       New Shop 2          730.905         500\n",
      "4                 Dorm A       New Shop 3          889.484         500\n",
      "5                 Dorm B  Existing Shop 1          607.806         300\n",
      "6                 Dorm B  Existing Shop 2         1035.151         300\n",
      "7                 Dorm B       New Shop 1          417.647         300\n",
      "8                 Dorm B       New Shop 2          508.204         300\n",
      "9                 Dorm B       New Shop 3          697.020         300\n",
      "10           Apartment C  Existing Shop 1          496.721         700\n",
      "11           Apartment C  Existing Shop 2          994.387         700\n",
      "12           Apartment C       New Shop 1          321.192         700\n",
      "13           Apartment C       New Shop 2            0.000         700\n",
      "14           Apartment C       New Shop 3          369.100         700\n"
     ]
    }
   ],
   "source": [
    "# Compute travel distances\n",
    "distance_matrix = []\n",
    "\n",
    "for _, sc in student_centroids.iterrows():\n",
    "    for _, bs in all_shops.iterrows():\n",
    "        try:\n",
    "            distance = nx.shortest_path_length(G, sc[\"node\"], bs[\"node\"], weight=\"length\")\n",
    "        except nx.NetworkXNoPath:\n",
    "            distance = np.nan  # If no path exists\n",
    "\n",
    "        distance_matrix.append({\n",
    "            \"Student_Living_Center\": sc[\"name\"],\n",
    "            \"Bike_Shop\": bs[\"name\"],\n",
    "            \"Distance_meters\": distance,\n",
    "            \"Population\": sc[\"population\"]\n",
    "        })\n",
    "\n",
    "# Convert to DataFrame\n",
    "distance_df = pd.DataFrame(distance_matrix)\n",
    "\n",
    "print(distance_df)"
   ]
  },
  {
   "cell_type": "code",
   "execution_count": 21,
   "metadata": {},
   "outputs": [
    {
     "name": "stdout",
     "output_type": "stream",
     "text": [
      "              name                    geometry        node  \\\n",
      "0  Existing Shop 1  POINT (-84.39150 33.77600)   546589748   \n",
      "1  Existing Shop 2  POINT (-84.38850 33.77450)  9244488405   \n",
      "2       New Shop 1  POINT (-84.39200 33.77500)  3158726327   \n",
      "3       New Shop 2  POINT (-84.39000 33.77300)  8845774644   \n",
      "4       New Shop 3  POINT (-84.38800 33.77100)  8584512262   \n",
      "\n",
      "   Huff_Attractiveness  \n",
      "0                    1  \n",
      "1                    1  \n",
      "2                    1  \n",
      "3                    1  \n",
      "4                    1  \n"
     ]
    }
   ],
   "source": [
    "# Huff Model Calculation\n",
    "b = 1.5  # Distance decay exponent\n",
    "all_shops[\"Huff_Attractiveness\"] = 1  # Assuming all shops have equal attractiveness\n",
    "\n",
    "print(all_shops)"
   ]
  },
  {
   "cell_type": "code",
   "execution_count": null,
   "metadata": {},
   "outputs": [
    {
     "name": "stdout",
     "output_type": "stream",
     "text": [
      "  Student_Living_Center        Bike_Shop  Distance_meters  Population\n",
      "0                Dorm A  Existing Shop 1          573.652         500\n",
      "1                Dorm A  Existing Shop 2          983.472         500\n",
      "2                Dorm A       New Shop 1          450.112         500\n",
      "3                Dorm A       New Shop 2          730.905         500\n",
      "4                Dorm A       New Shop 3          889.484         500\n",
      "nan\n",
      "  Student_Living_Center        Bike_Shop  Distance_meters  Population\n",
      "5                Dorm B  Existing Shop 1          607.806         300\n",
      "6                Dorm B  Existing Shop 2         1035.151         300\n",
      "7                Dorm B       New Shop 1          417.647         300\n",
      "8                Dorm B       New Shop 2          508.204         300\n",
      "9                Dorm B       New Shop 3          697.020         300\n",
      "nan\n"
     ]
    }
   ],
   "source": [
    "# Compute the probability that students choose each shop\n",
    "huff_probabilities = []\n",
    "\n",
    "for _, sc in student_centroids.iterrows():\n",
    "    student_population = sc[\"population\"]\n",
    "    relevant_distances = distance_df[distance_df[\"Student_Living_Center\"] == sc[\"name\"]]\n",
    "    \n",
    "    print(relevant_distances)\n",
    "\n",
    "    # Calculate denominator PROBLEM HERE (sum of attractiveness/distance)\n",
    "    denominator = sum(all_shops.set_index(\"name\").loc[relevant_distances[\"Bike_Shop\"], \"Huff_Attractiveness\"] / (relevant_distances[\"Distance_meters\"] ** b))\n",
    "    \n",
    "    print(denominator)\n",
    "    \n",
    "    for _, row in relevant_distances.iterrows():\n",
    "        bike_shop = row[\"Bike_Shop\"]\n",
    "        distance = row[\"Distance_meters\"]\n",
    "        \n",
    "        # Huff Probability Calculation\n",
    "        numerator = all_shops.set_index(\"name\").loc[bike_shop, \"Huff_Attractiveness\"] / (distance ** b)\n",
    "        probability = numerator / denominator if denominator > 0 else 0\n",
    "        \n",
    "        # Store probability weighted by student population\n",
    "        huff_probabilities.append({\n",
    "            \"Student_Living_Center\": sc[\"name\"],\n",
    "            \"Bike_Shop\": bike_shop,\n",
    "            \"Probability\": probability,\n",
    "            \"Expected_Visits\": probability * student_population\n",
    "        })\n",
    "\n",
    "# Convert Huff Model results to DataFrame\n",
    "huff_df = pd.DataFrame(huff_probabilities)\n",
    "\n",
    "print(huff_df)"
   ]
  },
  {
   "cell_type": "code",
   "execution_count": null,
   "metadata": {},
   "outputs": [
    {
     "name": "stdout",
     "output_type": "stream",
     "text": [
      "Best New Bike Shop Location Based on Huff Model:\n",
      "    Bike_Shop  Expected_Visits\n",
      "2  New Shop 1                0\n",
      "3  New Shop 2                0\n",
      "4  New Shop 3                0\n"
     ]
    }
   ],
   "source": [
    "# Sum expected visits per shop\n",
    "expected_demand = huff_df.groupby(\"Bike_Shop\")[\"Expected_Visits\"].sum().reset_index()\n",
    "\n",
    "# Separate new shops and rank them\n",
    "new_shop_demand = expected_demand[expected_demand[\"Bike_Shop\"].isin(new_shops[\"name\"])]\n",
    "new_shop_demand = new_shop_demand.sort_values(by=\"Expected_Visits\", ascending=False)\n",
    "\n",
    "# Show the best new shop location\n",
    "print(\"Best New Bike Shop Location Based on Huff Model:\")\n",
    "print(new_shop_demand)"
   ]
  }
 ],
 "metadata": {
  "kernelspec": {
   "display_name": "myenv",
   "language": "python",
   "name": "python3"
  },
  "language_info": {
   "codemirror_mode": {
    "name": "ipython",
    "version": 3
   },
   "file_extension": ".py",
   "mimetype": "text/x-python",
   "name": "python",
   "nbconvert_exporter": "python",
   "pygments_lexer": "ipython3",
   "version": "3.12.1"
  }
 },
 "nbformat": 4,
 "nbformat_minor": 2
}
